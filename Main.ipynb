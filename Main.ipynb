{
  "nbformat": 4,
  "nbformat_minor": 0,
  "metadata": {
    "colab": {
      "provenance": [],
      "toc_visible": true,
      "gpuType": "T4",
      "authorship_tag": "ABX9TyNxQeVCsJJRj1nRbTCxfWoE",
      "include_colab_link": true
    },
    "kernelspec": {
      "name": "python3",
      "display_name": "Python 3"
    },
    "language_info": {
      "name": "python"
    },
    "accelerator": "GPU"
  },
  "cells": [
    {
      "cell_type": "markdown",
      "metadata": {
        "id": "view-in-github",
        "colab_type": "text"
      },
      "source": [
        "<a href=\"https://colab.research.google.com/github/Boonyaratt/Second-Hand-Price-Prediction-CNN/blob/main/Main.ipynb\" target=\"_parent\"><img src=\"https://colab.research.google.com/assets/colab-badge.svg\" alt=\"Open In Colab\"/></a>"
      ]
    },
    {
      "cell_type": "markdown",
      "source": [
        "# Second-Hand-Price-Prediction-CNN"
      ],
      "metadata": {
        "id": "LE8W2KF6dGSS"
      }
    },
    {
      "cell_type": "markdown",
      "source": [
        "##Get file from source [here!](https://zenodo.org/records/8386668)\n",
        "\n",
        "this file download on runtime, you must run the block below to get the dataset, Which from now took about 40++ mins!\n"
      ],
      "metadata": {
        "id": "S5VYcTtqfyIL"
      }
    },
    {
      "cell_type": "code",
      "execution_count": 1,
      "metadata": {
        "colab": {
          "base_uri": "https://localhost:8080/"
        },
        "id": "8lx6jGfbc6Lg",
        "outputId": "5e6fb1b5-ffa8-4519-e262-a49172ed5567"
      },
      "outputs": [
        {
          "output_type": "stream",
          "name": "stdout",
          "text": [
            "--2025-08-05 02:45:14--  https://zenodo.org/records/8386668/files/circular_fashion_v1.tar.gz?download=1\n",
            "Resolving zenodo.org (zenodo.org)... 188.185.43.25, 188.185.45.92, 188.185.48.194, ...\n",
            "Connecting to zenodo.org (zenodo.org)|188.185.43.25|:443... connected.\n",
            "HTTP request sent, awaiting response... 200 OK\n",
            "Length: 2268791213 (2.1G) [application/octet-stream]\n",
            "Saving to: ‘circular_fashion_v1.tar.gz?download=1’\n",
            "\n",
            "on_v1.tar.gz?downlo   0%[                    ]   3.71M   486KB/s    eta 77m 7s ^C\n"
          ]
        }
      ],
      "source": [
        "!wget https://zenodo.org/records/8386668/files/circular_fashion_v1.tar.gz?download=1"
      ]
    },
    {
      "cell_type": "code",
      "source": [
        "import os\n",
        "# Rename to remove '?download=1.1'\n",
        "os.rename('/content/circular_fashion_v1.tar.gz?download=1', '/content/circular_fashion_v1.tar.gz')\n",
        "\n",
        "!tar -xvzf /content/circular_fashion_v1.tar.gz -C /content/"
      ],
      "metadata": {
        "colab": {
          "base_uri": "https://localhost:8080/"
        },
        "id": "uj6T_YAOkAla",
        "outputId": "ac3d8e46-e065-4164-f858-7d335ba68c61"
      },
      "execution_count": 2,
      "outputs": [
        {
          "output_type": "stream",
          "name": "stdout",
          "text": [
            "sep2022/2022-09-21/front_2022_09_21_10_54_07.jpg\n",
            "sep2022/2022-09-15/labels_2022_09_15_09_04_22.json\n",
            "feb2023/2023-02-02/brand_2023_02_02_10_33_59.jpg\n",
            "sep2022/2022-09-14/front_2022_09_14_11_36_07.jpg\n",
            "sep2022/2022-09-22/front_2022_09_22_05_39_22.jpg\n",
            "oct2022/2022-10-20/labels_2022_10_20_07_43_55.json\n",
            "jan2023/2023-01-31/front_2023_01_31_11_04_58.jpg\n",
            "oct2022/2022-10-11/labels_2022_10_11_12_25_47.json\n",
            "sep2022/2022-09-29/labels_2022_09_29_07_19_28.json\n",
            "feb2023/2023-02-06/brand_2023_02_06_08_53_41.jpg\n",
            "oct2022/2022-10-25/front_2022_10_25_08_06_25.jpg\n",
            "sep2022/2022-09-22/front_2022_09_22_06_14_05.jpg\n",
            "nov2022/2022-11-07/front_2022_11_07_10_30_03.jpg\n",
            "oct2022/2022-10-31/back_2022_10_31_08_05_18.jpg\n",
            "oct2022/2022-10-06/brand_2022_10_06_09_51_48.jpg\n",
            "oct2022/2022-10-10/back_2022_10_10_08_23_48.jpg\n",
            "sep2022/2022-09-27/back_2022_09_27_12_01_09.jpg\n",
            "jan2023/2023-01-26/brand_2023_01_26_12_41_55.jpg\n",
            "\n",
            "gzip: stdin: unexpected end of file\n",
            "tar: Unexpected EOF in archive\n",
            "tar: Unexpected EOF in archive\n",
            "tar: Error is not recoverable: exiting now\n"
          ]
        }
      ]
    },
    {
      "cell_type": "markdown",
      "source": [
        "### Dir Command\n"
      ],
      "metadata": {
        "id": "kPMIBbxH-zXZ"
      }
    },
    {
      "cell_type": "code",
      "source": [
        "!ls /content/"
      ],
      "metadata": {
        "colab": {
          "base_uri": "https://localhost:8080/"
        },
        "id": "g_J4Rntkk0f7",
        "outputId": "26800a16-98f4-4ce2-b8b9-794eba2520da"
      },
      "execution_count": 3,
      "outputs": [
        {
          "output_type": "stream",
          "name": "stdout",
          "text": [
            "circular_fashion_v1.tar.gz  feb2023  LICENSE  oct2022\t sample_data\n",
            "dec2022\t\t\t    jan2023  nov2022  README.md  sep2022\n"
          ]
        }
      ]
    },
    {
      "cell_type": "code",
      "source": [
        "!ls /content/oct2022/"
      ],
      "metadata": {
        "colab": {
          "base_uri": "https://localhost:8080/"
        },
        "id": "hQMrBre-l9Cb",
        "outputId": "471e5faf-ba05-46fa-b532-aec6c01223f9"
      },
      "execution_count": 4,
      "outputs": [
        {
          "output_type": "stream",
          "name": "stdout",
          "text": [
            "2022-10-03  2022-10-11\t2022-10-17  2022-10-21\t2022-10-27\n",
            "2022-10-05  2022-10-12\t2022-10-18  2022-10-24\t2022-10-28\n",
            "2022-10-06  2022-10-13\t2022-10-19  2022-10-25\t2022-10-31\n",
            "2022-10-10  2022-10-14\t2022-10-20  2022-10-26\n"
          ]
        }
      ]
    },
    {
      "cell_type": "code",
      "source": [
        "!ls /content/dec2022/2022-12-01"
      ],
      "metadata": {
        "colab": {
          "base_uri": "https://localhost:8080/"
        },
        "id": "JwlD_sLLmHQ6",
        "outputId": "ac4e5861-f2e4-4d94-b7ef-edac5c63d8ff"
      },
      "execution_count": 5,
      "outputs": [
        {
          "output_type": "stream",
          "name": "stdout",
          "text": [
            "back_2022_12_01_09_56_35.jpg   front_2022_12_01_10_15_13.jpg\n",
            "back_2022_12_01_09_56_38.jpg   front_2022_12_01_10_19_35.jpg\n",
            "back_2022_12_01_10_01_59.jpg   front_2022_12_01_12_49_46.jpg\n",
            "back_2022_12_01_10_04_50.jpg   front_2022_12_01_12_52_40.jpg\n",
            "back_2022_12_01_10_07_56.jpg   front_2022_12_01_12_54_58.jpg\n",
            "back_2022_12_01_10_10_58.jpg   front_2022_12_01_12_57_20.jpg\n",
            "back_2022_12_01_10_15_13.jpg   front_2022_12_01_13_01_33.jpg\n",
            "back_2022_12_01_10_19_35.jpg   front_2022_12_01_13_04_18.jpg\n",
            "back_2022_12_01_12_49_46.jpg   front_2022_12_01_13_07_23.jpg\n",
            "back_2022_12_01_12_52_40.jpg   front_2022_12_01_13_09_52.jpg\n",
            "back_2022_12_01_12_54_58.jpg   front_2022_12_01_13_11_53.jpg\n",
            "back_2022_12_01_12_57_20.jpg   front_2022_12_01_13_13_28.jpg\n",
            "back_2022_12_01_13_01_33.jpg   front_2022_12_01_13_16_21.jpg\n",
            "back_2022_12_01_13_04_18.jpg   front_2022_12_01_13_18_24.jpg\n",
            "back_2022_12_01_13_07_23.jpg   front_2022_12_01_13_20_26.jpg\n",
            "back_2022_12_01_13_09_52.jpg   front_2022_12_01_13_25_14.jpg\n",
            "back_2022_12_01_13_11_53.jpg   front_2022_12_01_13_28_10.jpg\n",
            "back_2022_12_01_13_13_28.jpg   front_2022_12_01_13_30_10.jpg\n",
            "back_2022_12_01_13_16_21.jpg   front_2022_12_01_13_34_22.jpg\n",
            "back_2022_12_01_13_18_24.jpg   front_2022_12_01_13_44_48.jpg\n",
            "back_2022_12_01_13_20_26.jpg   front_2022_12_01_13_48_18.jpg\n",
            "back_2022_12_01_13_25_14.jpg   front_2022_12_01_13_51_18.jpg\n",
            "back_2022_12_01_13_28_10.jpg   front_2022_12_01_13_54_08.jpg\n",
            "back_2022_12_01_13_30_10.jpg   front_2022_12_01_13_56_36.jpg\n",
            "back_2022_12_01_13_34_22.jpg   front_2022_12_01_13_57_59.jpg\n",
            "back_2022_12_01_13_44_48.jpg   front_2022_12_01_14_00_15.jpg\n",
            "back_2022_12_01_13_48_18.jpg   front_2022_12_01_14_02_07.jpg\n",
            "back_2022_12_01_13_51_18.jpg   front_2022_12_01_14_04_20.jpg\n",
            "back_2022_12_01_13_54_08.jpg   front_2022_12_01_14_06_34.jpg\n",
            "back_2022_12_01_13_56_36.jpg   front_2022_12_01_14_09_23.jpg\n",
            "back_2022_12_01_13_57_59.jpg   front_2022_12_01_14_12_32.jpg\n",
            "back_2022_12_01_14_00_15.jpg   front_2022_12_01_14_14_44.jpg\n",
            "back_2022_12_01_14_02_07.jpg   front_2022_12_01_14_17_17.jpg\n",
            "back_2022_12_01_14_04_20.jpg   front_2022_12_01_14_19_56.jpg\n",
            "back_2022_12_01_14_06_34.jpg   labels_2022_12_01_09_56_35.json\n",
            "back_2022_12_01_14_09_23.jpg   labels_2022_12_01_09_56_38.json\n",
            "back_2022_12_01_14_12_32.jpg   labels_2022_12_01_10_01_59.json\n",
            "back_2022_12_01_14_14_44.jpg   labels_2022_12_01_10_04_50.json\n",
            "back_2022_12_01_14_17_17.jpg   labels_2022_12_01_10_07_56.json\n",
            "back_2022_12_01_14_19_56.jpg   labels_2022_12_01_10_10_58.json\n",
            "brand_2022_12_01_09_56_35.jpg  labels_2022_12_01_10_15_13.json\n",
            "brand_2022_12_01_09_56_38.jpg  labels_2022_12_01_10_19_35.json\n",
            "brand_2022_12_01_10_01_59.jpg  labels_2022_12_01_12_49_46.json\n",
            "brand_2022_12_01_10_04_50.jpg  labels_2022_12_01_12_52_40.json\n",
            "brand_2022_12_01_10_07_56.jpg  labels_2022_12_01_12_54_58.json\n",
            "brand_2022_12_01_10_10_58.jpg  labels_2022_12_01_12_57_20.json\n",
            "brand_2022_12_01_12_49_46.jpg  labels_2022_12_01_13_01_33.json\n",
            "brand_2022_12_01_12_52_40.jpg  labels_2022_12_01_13_04_18.json\n",
            "brand_2022_12_01_12_54_58.jpg  labels_2022_12_01_13_07_23.json\n",
            "brand_2022_12_01_12_57_20.jpg  labels_2022_12_01_13_09_52.json\n",
            "brand_2022_12_01_13_01_33.jpg  labels_2022_12_01_13_11_53.json\n",
            "brand_2022_12_01_13_04_18.jpg  labels_2022_12_01_13_13_28.json\n",
            "brand_2022_12_01_13_07_23.jpg  labels_2022_12_01_13_16_21.json\n",
            "brand_2022_12_01_13_11_53.jpg  labels_2022_12_01_13_18_24.json\n",
            "brand_2022_12_01_13_13_28.jpg  labels_2022_12_01_13_20_26.json\n",
            "brand_2022_12_01_13_16_21.jpg  labels_2022_12_01_13_25_14.json\n",
            "brand_2022_12_01_13_25_14.jpg  labels_2022_12_01_13_28_10.json\n",
            "brand_2022_12_01_13_44_48.jpg  labels_2022_12_01_13_30_10.json\n",
            "brand_2022_12_01_13_48_18.jpg  labels_2022_12_01_13_34_22.json\n",
            "brand_2022_12_01_13_54_08.jpg  labels_2022_12_01_13_44_48.json\n",
            "brand_2022_12_01_13_56_36.jpg  labels_2022_12_01_13_48_18.json\n",
            "brand_2022_12_01_13_57_59.jpg  labels_2022_12_01_13_51_18.json\n",
            "brand_2022_12_01_14_00_15.jpg  labels_2022_12_01_13_54_08.json\n",
            "brand_2022_12_01_14_02_07.jpg  labels_2022_12_01_13_56_36.json\n",
            "brand_2022_12_01_14_06_34.jpg  labels_2022_12_01_13_57_59.json\n",
            "brand_2022_12_01_14_09_23.jpg  labels_2022_12_01_14_00_15.json\n",
            "brand_2022_12_01_14_12_32.jpg  labels_2022_12_01_14_02_07.json\n",
            "brand_2022_12_01_14_14_44.jpg  labels_2022_12_01_14_04_20.json\n",
            "front_2022_12_01_09_56_35.jpg  labels_2022_12_01_14_06_34.json\n",
            "front_2022_12_01_09_56_38.jpg  labels_2022_12_01_14_09_23.json\n",
            "front_2022_12_01_10_01_59.jpg  labels_2022_12_01_14_12_32.json\n",
            "front_2022_12_01_10_04_50.jpg  labels_2022_12_01_14_14_44.json\n",
            "front_2022_12_01_10_07_56.jpg  labels_2022_12_01_14_17_17.json\n",
            "front_2022_12_01_10_10_58.jpg  labels_2022_12_01_14_19_56.json\n"
          ]
        }
      ]
    },
    {
      "cell_type": "markdown",
      "source": [
        "#Create Dataset\n"
      ],
      "metadata": {
        "id": "asJEPlOUm5Wq"
      }
    },
    {
      "cell_type": "markdown",
      "source": [
        "Make function to combine image and labeling data from dir"
      ],
      "metadata": {
        "id": "bViHj6tGDMfI"
      }
    },
    {
      "cell_type": "code",
      "source": [
        "import os\n",
        "import json\n",
        "import pandas as pd\n",
        "\n",
        "import os\n",
        "import json\n",
        "import pandas as pd\n",
        "\n",
        "def build_dataset_from_month(month_dir):\n",
        "    all_data = []\n",
        "\n",
        "    for day in os.listdir(month_dir):\n",
        "        day_path = os.path.join(month_dir, day)\n",
        "        if not os.path.isdir(day_path):\n",
        "            continue\n",
        "\n",
        "        for filename in os.listdir(day_path):\n",
        "            if filename.startswith(\"labels_\") and filename.endswith(\".json\"):\n",
        "                label_path = os.path.join(day_path, filename)\n",
        "\n",
        "                try:\n",
        "                    with open(label_path, 'r') as f:\n",
        "                        label_data = json.load(f)\n",
        "                except json.JSONDecodeError as e:\n",
        "                    print(f\"[ERROR] Failed to parse JSON in: {label_path}\")\n",
        "                    print(f\"        Error: {e}\")\n",
        "                    continue\n",
        "                except Exception as e:\n",
        "                    print(f\"[ERROR] Other error in: {label_path}\")\n",
        "                    print(f\"        Error: {e}\")\n",
        "                    continue\n",
        "\n",
        "                timestamp = filename.replace(\"labels_\", \"\").replace(\".json\", \"\")\n",
        "\n",
        "                front_img = os.path.join(day_path, f\"front_{timestamp}.jpg\")\n",
        "                back_img = os.path.join(day_path, f\"back_{timestamp}.jpg\")\n",
        "                brand_img = os.path.join(day_path, f\"brand_{timestamp}.jpg\")\n",
        "                brand_img = brand_img if os.path.exists(brand_img) else None\n",
        "\n",
        "                label_data['front_img'] = front_img\n",
        "                label_data['back_img'] = back_img\n",
        "                label_data['brand_img'] = brand_img\n",
        "                label_data['timestamp'] = timestamp\n",
        "                label_data['day'] = day\n",
        "\n",
        "                all_data.append(label_data)\n",
        "\n",
        "    return pd.DataFrame(all_data)\n"
      ],
      "metadata": {
        "id": "Oi2c22zBmj7i"
      },
      "execution_count": 6,
      "outputs": []
    },
    {
      "cell_type": "markdown",
      "source": [
        "##remove error file\n"
      ],
      "metadata": {
        "id": "NeSXYHTgC6sh"
      }
    },
    {
      "cell_type": "code",
      "source": [
        "!cat /content/oct2022/2022-10-17/labels_2022_10_17_07_40_32.json"
      ],
      "metadata": {
        "colab": {
          "base_uri": "https://localhost:8080/"
        },
        "id": "Rvz1_BkmBcI5",
        "outputId": "c65fd628-49b2-4ccc-fb18-5e6ff742a919"
      },
      "execution_count": 7,
      "outputs": [
        {
          "output_type": "stream",
          "name": "stdout",
          "text": [
            "cat: /content/oct2022/2022-10-17/labels_2022_10_17_07_40_32.json: No such file or directory\n"
          ]
        }
      ]
    },
    {
      "cell_type": "code",
      "source": [
        "os.remove(\"/content/oct2022/2022-10-17/labels_2022_10_17_07_40_32.json\")\n",
        "os.remove(\"/content/oct2022/2022-10-17/back_2022_10_17_07_40_32.png\")\n",
        "os.remove(\"/content/oct2022/2022-10-17/front_2022_10_17_07_40_32.png\")\n",
        "os.remove(\"/content/oct2022/2022-10-17/brand_2022_10_17_07_40_32.png\")"
      ],
      "metadata": {
        "colab": {
          "base_uri": "https://localhost:8080/",
          "height": 193
        },
        "id": "fA2acz72Cj0V",
        "outputId": "38e7644b-aa27-4fe8-d696-689ceea29d24"
      },
      "execution_count": 8,
      "outputs": [
        {
          "output_type": "error",
          "ename": "FileNotFoundError",
          "evalue": "[Errno 2] No such file or directory: '/content/oct2022/2022-10-17/labels_2022_10_17_07_40_32.json'",
          "traceback": [
            "\u001b[0;31m---------------------------------------------------------------------------\u001b[0m",
            "\u001b[0;31mFileNotFoundError\u001b[0m                         Traceback (most recent call last)",
            "\u001b[0;32m/tmp/ipython-input-3681582938.py\u001b[0m in \u001b[0;36m<cell line: 0>\u001b[0;34m()\u001b[0m\n\u001b[0;32m----> 1\u001b[0;31m \u001b[0mos\u001b[0m\u001b[0;34m.\u001b[0m\u001b[0mremove\u001b[0m\u001b[0;34m(\u001b[0m\u001b[0;34m\"/content/oct2022/2022-10-17/labels_2022_10_17_07_40_32.json\"\u001b[0m\u001b[0;34m)\u001b[0m\u001b[0;34m\u001b[0m\u001b[0;34m\u001b[0m\u001b[0m\n\u001b[0m\u001b[1;32m      2\u001b[0m \u001b[0mos\u001b[0m\u001b[0;34m.\u001b[0m\u001b[0mremove\u001b[0m\u001b[0;34m(\u001b[0m\u001b[0;34m\"/content/oct2022/2022-10-17/back_2022_10_17_07_40_32.png\"\u001b[0m\u001b[0;34m)\u001b[0m\u001b[0;34m\u001b[0m\u001b[0;34m\u001b[0m\u001b[0m\n\u001b[1;32m      3\u001b[0m \u001b[0mos\u001b[0m\u001b[0;34m.\u001b[0m\u001b[0mremove\u001b[0m\u001b[0;34m(\u001b[0m\u001b[0;34m\"/content/oct2022/2022-10-17/front_2022_10_17_07_40_32.png\"\u001b[0m\u001b[0;34m)\u001b[0m\u001b[0;34m\u001b[0m\u001b[0;34m\u001b[0m\u001b[0m\n\u001b[1;32m      4\u001b[0m \u001b[0mos\u001b[0m\u001b[0;34m.\u001b[0m\u001b[0mremove\u001b[0m\u001b[0;34m(\u001b[0m\u001b[0;34m\"/content/oct2022/2022-10-17/brand_2022_10_17_07_40_32.png\"\u001b[0m\u001b[0;34m)\u001b[0m\u001b[0;34m\u001b[0m\u001b[0;34m\u001b[0m\u001b[0m\n",
            "\u001b[0;31mFileNotFoundError\u001b[0m: [Errno 2] No such file or directory: '/content/oct2022/2022-10-17/labels_2022_10_17_07_40_32.json'"
          ]
        }
      ]
    },
    {
      "cell_type": "markdown",
      "source": [
        "## Create Dataframe"
      ],
      "metadata": {
        "id": "xYDgXQ2pDGDZ"
      }
    },
    {
      "cell_type": "code",
      "source": [
        "df_dec2022 = build_dataset_from_month('/content/dec2022')\n",
        "df_feb2023 = build_dataset_from_month('/content/feb2023')\n",
        "df_jan2023 = build_dataset_from_month('/content/jan2023')\n",
        "df_nov2022 = build_dataset_from_month('/content/nov2022')\n",
        "df_oct2022 = build_dataset_from_month('/content/oct2022')\n",
        "\n",
        "df = pd.concat([df_dec2022, df_feb2023, df_jan2023, df_nov2022,df_oct2022])"
      ],
      "metadata": {
        "id": "OcJowgKpmrTi"
      },
      "execution_count": 9,
      "outputs": []
    },
    {
      "cell_type": "markdown",
      "source": [
        "##Data Explore"
      ],
      "metadata": {
        "id": "B5QrroUtDBmY"
      }
    },
    {
      "cell_type": "code",
      "source": [
        "df.tail()"
      ],
      "metadata": {
        "id": "FDMcJ5xyESdn"
      },
      "execution_count": null,
      "outputs": []
    },
    {
      "cell_type": "code",
      "source": [
        "df['annotator']"
      ],
      "metadata": {
        "id": "dlESAfAoOoKo"
      },
      "execution_count": null,
      "outputs": []
    },
    {
      "cell_type": "code",
      "source": [
        "df.info()"
      ],
      "metadata": {
        "id": "9qU3V4KPpwdT"
      },
      "execution_count": null,
      "outputs": []
    },
    {
      "cell_type": "code",
      "source": [
        "df.describe()"
      ],
      "metadata": {
        "id": "gxiGHb-cDy3o"
      },
      "execution_count": null,
      "outputs": []
    },
    {
      "cell_type": "markdown",
      "source": [
        "###Display Some Cloths Image\n"
      ],
      "metadata": {
        "id": "kxMDutykrNnT"
      }
    },
    {
      "cell_type": "code",
      "source": [
        "import matplotlib.pyplot as plt\n",
        "from PIL import Image\n",
        "import os\n",
        "import json\n",
        "\n",
        "def display_sample(row):\n",
        "    fig, axs = plt.subplots(1, 3, figsize=(12, 4))\n",
        "\n",
        "    for i, img_type in enumerate(['front_img', 'back_img', 'brand_img']):\n",
        "        img_path = row[img_type]\n",
        "        if img_path and os.path.exists(img_path):\n",
        "            img = Image.open(img_path)\n",
        "            axs[i].imshow(img)\n",
        "            axs[i].set_title(img_type)\n",
        "            axs[i].axis('off')\n",
        "        else:\n",
        "            axs[i].set_title(f\"{img_type}\\nNot Found\")\n",
        "            axs[i].axis('off')\n",
        "\n",
        "    plt.suptitle(f\"Date: {row['day']} | Timestamp: {row['timestamp']}\")\n",
        "    plt.show()\n",
        "\n",
        "    print(\"Category:\")\n",
        "    print(json.dumps(row['category'], indent=2))\n",
        "    print(\"Type:\")\n",
        "    print(json.dumps(row['type'], indent=2))\n",
        "    print(\"size:\")\n",
        "    print(json.dumps(row['size'], indent=2))\n",
        "    print(\"Colors:\")\n",
        "    print(json.dumps(row['colors'], indent=2))\n",
        "    print(\"price:\")\n",
        "    print(json.dumps(row['price'], indent=2))\n"
      ],
      "metadata": {
        "id": "6RoxsErInYBC"
      },
      "execution_count": null,
      "outputs": []
    },
    {
      "cell_type": "code",
      "source": [
        "for i in range(3):\n",
        "  display_sample(df.iloc[i])"
      ],
      "metadata": {
        "id": "33HXJtyeqfmT"
      },
      "execution_count": null,
      "outputs": []
    },
    {
      "cell_type": "markdown",
      "source": [
        "###Data value explore"
      ],
      "metadata": {
        "id": "FsOw6jXiI4F2"
      }
    },
    {
      "cell_type": "code",
      "source": [
        "df.isna().sum()"
      ],
      "metadata": {
        "colab": {
          "base_uri": "https://localhost:8080/",
          "height": 931
        },
        "id": "GoXXmRFDq-3j",
        "outputId": "c7556a5e-0d1b-4356-8369-835bade6daeb"
      },
      "execution_count": 10,
      "outputs": [
        {
          "output_type": "execute_result",
          "data": {
            "text/plain": [
              "brand           0\n",
              "brandtext    1171\n",
              "category        0\n",
              "type            0\n",
              "size            0\n",
              "colors          0\n",
              "season          0\n",
              "pilling         0\n",
              "condition       0\n",
              "price           0\n",
              "annotator       0\n",
              "cut             0\n",
              "pattern         0\n",
              "trend           0\n",
              "smell        1171\n",
              "stains          0\n",
              "holes        1171\n",
              "damage          0\n",
              "material        0\n",
              "comment         0\n",
              "usage           0\n",
              "front_img       0\n",
              "back_img        0\n",
              "brand_img     358\n",
              "timestamp       0\n",
              "day             0\n",
              "weight        741\n",
              "dtype: int64"
            ],
            "text/html": [
              "<div>\n",
              "<style scoped>\n",
              "    .dataframe tbody tr th:only-of-type {\n",
              "        vertical-align: middle;\n",
              "    }\n",
              "\n",
              "    .dataframe tbody tr th {\n",
              "        vertical-align: top;\n",
              "    }\n",
              "\n",
              "    .dataframe thead th {\n",
              "        text-align: right;\n",
              "    }\n",
              "</style>\n",
              "<table border=\"1\" class=\"dataframe\">\n",
              "  <thead>\n",
              "    <tr style=\"text-align: right;\">\n",
              "      <th></th>\n",
              "      <th>0</th>\n",
              "    </tr>\n",
              "  </thead>\n",
              "  <tbody>\n",
              "    <tr>\n",
              "      <th>brand</th>\n",
              "      <td>0</td>\n",
              "    </tr>\n",
              "    <tr>\n",
              "      <th>brandtext</th>\n",
              "      <td>1171</td>\n",
              "    </tr>\n",
              "    <tr>\n",
              "      <th>category</th>\n",
              "      <td>0</td>\n",
              "    </tr>\n",
              "    <tr>\n",
              "      <th>type</th>\n",
              "      <td>0</td>\n",
              "    </tr>\n",
              "    <tr>\n",
              "      <th>size</th>\n",
              "      <td>0</td>\n",
              "    </tr>\n",
              "    <tr>\n",
              "      <th>colors</th>\n",
              "      <td>0</td>\n",
              "    </tr>\n",
              "    <tr>\n",
              "      <th>season</th>\n",
              "      <td>0</td>\n",
              "    </tr>\n",
              "    <tr>\n",
              "      <th>pilling</th>\n",
              "      <td>0</td>\n",
              "    </tr>\n",
              "    <tr>\n",
              "      <th>condition</th>\n",
              "      <td>0</td>\n",
              "    </tr>\n",
              "    <tr>\n",
              "      <th>price</th>\n",
              "      <td>0</td>\n",
              "    </tr>\n",
              "    <tr>\n",
              "      <th>annotator</th>\n",
              "      <td>0</td>\n",
              "    </tr>\n",
              "    <tr>\n",
              "      <th>cut</th>\n",
              "      <td>0</td>\n",
              "    </tr>\n",
              "    <tr>\n",
              "      <th>pattern</th>\n",
              "      <td>0</td>\n",
              "    </tr>\n",
              "    <tr>\n",
              "      <th>trend</th>\n",
              "      <td>0</td>\n",
              "    </tr>\n",
              "    <tr>\n",
              "      <th>smell</th>\n",
              "      <td>1171</td>\n",
              "    </tr>\n",
              "    <tr>\n",
              "      <th>stains</th>\n",
              "      <td>0</td>\n",
              "    </tr>\n",
              "    <tr>\n",
              "      <th>holes</th>\n",
              "      <td>1171</td>\n",
              "    </tr>\n",
              "    <tr>\n",
              "      <th>damage</th>\n",
              "      <td>0</td>\n",
              "    </tr>\n",
              "    <tr>\n",
              "      <th>material</th>\n",
              "      <td>0</td>\n",
              "    </tr>\n",
              "    <tr>\n",
              "      <th>comment</th>\n",
              "      <td>0</td>\n",
              "    </tr>\n",
              "    <tr>\n",
              "      <th>usage</th>\n",
              "      <td>0</td>\n",
              "    </tr>\n",
              "    <tr>\n",
              "      <th>front_img</th>\n",
              "      <td>0</td>\n",
              "    </tr>\n",
              "    <tr>\n",
              "      <th>back_img</th>\n",
              "      <td>0</td>\n",
              "    </tr>\n",
              "    <tr>\n",
              "      <th>brand_img</th>\n",
              "      <td>358</td>\n",
              "    </tr>\n",
              "    <tr>\n",
              "      <th>timestamp</th>\n",
              "      <td>0</td>\n",
              "    </tr>\n",
              "    <tr>\n",
              "      <th>day</th>\n",
              "      <td>0</td>\n",
              "    </tr>\n",
              "    <tr>\n",
              "      <th>weight</th>\n",
              "      <td>741</td>\n",
              "    </tr>\n",
              "  </tbody>\n",
              "</table>\n",
              "</div><br><label><b>dtype:</b> int64</label>"
            ]
          },
          "metadata": {},
          "execution_count": 10
        }
      ]
    },
    {
      "cell_type": "code",
      "source": [
        "df = df.drop(['smell','holes','weight','comment','annotator'], axis=1)"
      ],
      "metadata": {
        "id": "Lmak4socLZWd"
      },
      "execution_count": 11,
      "outputs": []
    },
    {
      "cell_type": "code",
      "source": [
        "def display_unique_values(df, columns=None):\n",
        "    if columns is None:\n",
        "        columns = df.columns\n",
        "    for col in columns:\n",
        "        unique_vals = df[col].unique()\n",
        "        print(f\"Column: {col}\")\n",
        "        print(f\"Unique values ({len(unique_vals)}): {unique_vals}\\n\")\n",
        "\n",
        "df['trend'] = df['trend'].replace({'No trend': 'None'})\n",
        "\n",
        "display_unique_values(df, ['category', 'type','size','season','trend','brand'])\n",
        "\n"
      ],
      "metadata": {
        "colab": {
          "base_uri": "https://localhost:8080/"
        },
        "id": "WCEORY1vIRZH",
        "outputId": "30061639-c761-4293-8109-baa13116e24a"
      },
      "execution_count": 12,
      "outputs": [
        {
          "output_type": "stream",
          "name": "stdout",
          "text": [
            "Column: category\n",
            "Unique values (4): ['Ladies' 'Men' 'Children' 'Unisex']\n",
            "\n",
            "Column: type\n",
            "Unique values (32): ['Blouse' 'Dress' 'Cardigan' 'Sweater' 'Top' 'Shirt' 'Tights' 'T-shirt'\n",
            " 'Skirt' 'Trousers' 'Blazer' 'Jeans' 'Vest' 'Jacket' 'Training top'\n",
            " 'Shorts' 'Hoodie' 'Tank top ' 'Winter jacket' 'Rain jacket'\n",
            " 'Winter trousers' 'Pajamas' 'Night gown' 'Rain trousers' 'Tunic'\n",
            " 'Outerwear' 'sweater' 'Denim jacket' 'Robe' 'Tank top' 'Jacker'\n",
            " 'Nightgown']\n",
            "\n",
            "Column: size\n",
            "Unique values (39): ['M ' 'XL' '40' '42' '46' 'L' '38' '50' '44' 'S ' 'None' '158' '122' '52'\n",
            " 'XXL' '134' '48' 'onesize' '164' '34' '36' '140' '98' '104' '146' '110'\n",
            " '128' '56' '62' 'XS' '116' '92' '74' 'XXXL' '86' '80' 'M' 'S' 'Onesize']\n",
            "\n",
            "Column: season\n",
            "Unique values (6): ['All' 'Winter' 'Spring' 'Summer' 'Autumn' 'None']\n",
            "\n",
            "Column: trend\n",
            "Unique values (6): ['None' 'Sports' '90s' 'Denim' 'Leather' '80s']\n",
            "\n",
            "Column: brand\n",
            "Unique values (168): ['Not in the list' 'Masai' '365' 'Batistini (Dressman)' 'Flash'\n",
            " 'Cappuchini' 'Isolde' 'H&M' 'Mywear (Ica)' 'Shirt Factory' 'Craft'\n",
            " 'Esprit' 'Cross Sportwear' 'Bikbok' 'Soul River' 'Junkyard' 'Kappahl'\n",
            " 'Polarn Och Pyret' 'Deval' 'Diesel' 'Lindex' 'Nike'\n",
            " 'Edc (Esprit De Corps)' \"Levi'S\" 'Bershka (Zara)'\n",
            " 'Hamton Republic (Kappahl)' 'Soc (Stadium)' 'Gina Tricot' 'Indiska'\n",
            " 'Etirel' 'Park Lane' 'Only' 'Everest' 'Rappson   (Gubb)' 'Cue'\n",
            " 'Logg (H&M)' 'These Glory Days' 'Odd Molly' 'Newbie (Kappahl)' 'Adidas'\n",
            " 'Carl William' 'Free Quent' 'Puma' 'Cellbes' 'Soya/Soyaconcept'\n",
            " 'Melly Moda' 'Ralph Lauren' 'Gant' 'Jack And Jones' 'Nudie Jeans'\n",
            " 'Maison Scotch' 'Zara' 'Lager 157' 'New Look' 'Alice Bizous (Joy)'\n",
            " 'Dorothy Perkins' 'Stockhlm' 'Gudrun Sjödén' 'Missing'\n",
            " 'Fbsisters (New Yorker)' 'Cream' 'Pull And Bear' 'Ellos' 'Filippa K'\n",
            " 'Swedemount' 'Prêt' 'Oscar Of Sweden' 'Inwear' 'Cos' 'Me & I' 'Stormberg'\n",
            " 'Helly Hansen' 'Amisu (New Yorker)' 'Na-Kd' 'Kari Traa' 'Second Female'\n",
            " 'Monki' 'Dressman' 'Tretorn' 'Fix (Lindex)' 'Twist & Tango' 'Samsö'\n",
            " 'Newbody' 'Hummel' 'Pure Instinct' 'Esmara (Lidl)' 'Tutti Frutti'\n",
            " 'Melka (Gammalt Svenskt)?' 'Name It' 'Cubus' 'Not Applicable ' 'Desigual'\n",
            " 'Soya/SoyaConcept' 'Vero moda' 'Vila' 'Holly and Whyte (Lindex)'\n",
            " 'Edc (esprit de corps)' 'NA-KD ' 'LOGG (H&M)' 'Free quent' 'Dobber'\n",
            " 'Asos' 'Lee' 'Part Two' 'Miss Milla' 'Carin Wester' 'KappAhl' 'MANGO '\n",
            " 'Micha ' 'River Island ' 'Amisu (New yorker)' 'Jean paul gaultier'\n",
            " 'XLNT (Kappahl)' 'Stenströms (skjorta)' 'Massimo dutti' 'Tutti frutti '\n",
            " 'East West' 'Pieces' 'On the Peak' 'Jackpot' 'Soaked in Luxury'\n",
            " \"Marc'O Polo\" 'Weekday' 'Moschino ' 'StyleIn ' 'Mexx ' 'Object'\n",
            " 'Hollister (Abercomb & Fitch)' 'Fransa' 'New look ' 'Juicy Couture'\n",
            " 'Bondelid ' 'FBSisters (New yorker)' 'Forever 21' 'Marimekko ' 'MONKI '\n",
            " 'Pull and bear' 'STOCKHLM ' 'Park lane' 'Miss Milla ' 'GANT' 'Bikbok '\n",
            " 'COS' 'Bershka (ZARA)' 'Havana' 'Dagmar ' 'Kriss' 'Tiger of Sweden'\n",
            " 'Masai ' 'MyWear (ICA) ' 'Gap' 'Saint tropez' 'FRK' 'Oui ' 'CRAFT'\n",
            " 'Rosebud' 'Gerry Weber' 'J.Lindeberg' 'McKinley (Intersport) '\n",
            " 'SOC (Stadium)' 'Shirt factory' 'Hunkydory' 'Soulmate' 'Not applicable'\n",
            " 'Hillevi' 'Skill' 'Almia' 'Peak Performance ']\n",
            "\n"
          ]
        }
      ]
    },
    {
      "cell_type": "markdown",
      "source": [
        "#### Cleaning df['brand']\n",
        "\n"
      ],
      "metadata": {
        "id": "2m2AIHkrJNWO"
      }
    },
    {
      "cell_type": "code",
      "source": [
        "# 1. Clean brand names\n",
        "def clean_brand_name(brand):\n",
        "    if pd.isna(brand):\n",
        "        return 'Unknown'\n",
        "    brand = brand.strip()\n",
        "    # แปลงตัวอักษรเป็นรูปแบบมาตรฐาน (lowercase + title case)\n",
        "    brand_lower = brand.lower()\n",
        "\n",
        "    # Mapping ชื่อแบรนด์ที่เขียนต่างกันให้อยู่ในชื่อเดียวกัน (ตัวอย่าง)\n",
        "    brand_corrections = {\n",
        "        'bershka (zara)': 'Zara',\n",
        "        'bershka (zara)': 'Zara',\n",
        "        'pull and bear': 'Zara',\n",
        "        'pull and bear': 'Zara',\n",
        "        'massimo dutti': 'Zara',\n",
        "        'logg (h&m)': 'H&M',\n",
        "        'weekday': 'H&M',\n",
        "        'monki': 'H&M',\n",
        "        'cos': 'H&M',\n",
        "        'cos': 'H&M',\n",
        "        'hamton republic (kappahl)': 'Kappahl',\n",
        "        'newbie (kappahl)': 'Kappahl',\n",
        "        'xlnt (kappahl)': 'Kappahl',\n",
        "        'fix (lindex)': 'Lindex',\n",
        "        'holly and whyte (lindex)': 'Lindex',\n",
        "        'edc (esprit de corps)': 'Esprit',\n",
        "        'fbsisters (new yorker)': 'New Yorker',\n",
        "        'amisu (new yorker)': 'New Yorker',\n",
        "        'mywear (ica)': 'MyWear',\n",
        "        'mywear (ica)': 'MyWear',\n",
        "        'soya/soyaconcept': 'Soya/Soyaconcept',\n",
        "        'na-kd': 'Na-Kd',\n",
        "        'na-kd ': 'Na-Kd',\n",
        "        'new look': 'New Look',\n",
        "        'new look ': 'New Look',\n",
        "        'monki ': 'Monki',\n",
        "        'stokhlm': 'Stockhlm',\n",
        "        'stockhlm ': 'Stockhlm',\n",
        "        'stkohlm': 'Stockhlm',\n",
        "        'soc (stadium)': 'Soc (Stadium)',\n",
        "        'soc (stadium)': 'Soc (Stadium)',\n",
        "        'shirt factory': 'Shirt Factory',\n",
        "        'shirt factory': 'Shirt Factory',\n",
        "        'mango ': 'Mango',\n",
        "        'micha ': 'Micha',\n",
        "        'hollister (abercrombie & fitch)': 'Hollister (Abercomb & Fitch)',\n",
        "        'frk': 'Frk',\n",
        "        'craff': 'Craft',\n",
        "        'free quent': 'Free Quent',\n",
        "        # เพิ่มเติมตามที่เจอ\n",
        "    }\n",
        "\n",
        "    if brand_lower in brand_corrections:\n",
        "        return brand_corrections[brand_lower]\n",
        "    else:\n",
        "        # คืนชื่อแบรนด์แบบ title case (เช่น \"Nike\", \"Adidas\")\n",
        "        return brand.title()\n",
        "\n",
        "# 2. Clean ทุกแถวก่อน map กลุ่ม\n",
        "df['brand_clean'] = df['brand'].apply(clean_brand_name)\n",
        "\n",
        "# 3. สร้าง dict mapping จาก brand_clean → group\n",
        "brand_groups = {\n",
        "    'Sportswear & Outdoor': ['Nike', 'Adidas', 'Puma', 'Craft', 'Cross Sportwear', 'Soc (Stadium)', 'Everest', 'Helly Hansen', 'Kari Traa', 'Stormberg', 'Tretorn', 'Hummel', 'McKinley (Intersport)', 'Peak Performance', 'Skill', 'On The Peak'],\n",
        "    'Fast Fashion & High Street Retailers': ['H&M', 'Zara', 'Bikbok', 'Gina Tricot', 'Only', 'New Look', 'New Yorker', 'Cubus', 'Vero Moda', 'Vila', 'Na-Kd', 'Asos', 'Mango', 'River Island', 'Pieces', 'Forever 21', 'Monki', 'Gap', 'Lindex', 'Kappahl'],\n",
        "    'Premium & Designer': ['Diesel', \"Levi'S\", 'Lee', 'Ralph Lauren', 'Gant', 'Nudie Jeans', 'Maison Scotch', 'Filippa K', 'Inwear', 'Second Female', 'Twist & Tango', 'Part Two', 'Carin Wester', 'Jean Paul Gaultier', 'Stenströms', 'Soaked In Luxury', 'Marc O Polo', 'Moschino', 'StyleIn', 'Object', 'Juicy Couture', 'Bondelid', 'Dagmar', 'Tiger Of Sweden', 'J.Lindeberg', 'Hunkydory', 'Hillevi', 'Jack And Jones', 'Cue', 'Esprit', 'Desigual'],\n",
        "    'Niche Brands': ['Masai', 'Dressman', 'Polarn Och Pyret', 'Deval', 'Indiska', 'Park Lane', 'These Glory Days', 'Odd Molly', 'Carl William', 'Free Quent', 'Soya/Soyaconcept', 'Stockhlm', 'Gudrun Sjödén', 'Swedemount', 'Oscar Of Sweden', 'Me & I', 'Samsö', 'Dobber', 'Micha', 'East West', 'Jackpot', 'Marimekko', 'Kriss', 'Saint Tropez', 'Gerry Weber'],\n",
        "    'Store Brands': ['365', 'Flash', 'Cappuchini', 'Isolde', 'MyWear', 'Shirt Factory', 'Soul River', 'Etirel', 'Cellbes', 'Melly Moda', 'Lager 157', 'Alice Bizous (Joy)', 'Dorothy Perkins', 'Cream', 'Ellos', 'Prêt', 'Pure Instinct', 'Esmara (Lidl)', 'Name It', 'Miss Milla', 'Mexx', 'Hollister (Abercomb & Fitch)', 'Fransa', 'Frk', 'Oui', 'Rosebud', 'Almia'],\n",
        "    'Non-Brand': ['Unknown', 'Not Applicable', 'Junkyard', 'Rappson (Gubb)', 'Tutti Frutti', 'Melka (Gammalt Svenskt)?', 'Newbody', 'Havana']\n",
        "}\n",
        "\n",
        "brand_to_group_map = {}\n",
        "for group, brands in brand_groups.items():\n",
        "    for brand in brands:\n",
        "        brand_to_group_map[brand] = group\n",
        "\n",
        "# 4. Map กลุ่มแบรนด์จากชื่อสะอาด\n",
        "df['brand_group'] = df['brand_clean'].map(brand_to_group_map).fillna('Other Brands')\n",
        "\n"
      ],
      "metadata": {
        "id": "U_eGQPtgJRJ2"
      },
      "execution_count": 17,
      "outputs": []
    },
    {
      "cell_type": "code",
      "source": [
        "df['brand_group'].value_counts()"
      ],
      "metadata": {
        "colab": {
          "base_uri": "https://localhost:8080/",
          "height": 335
        },
        "id": "PVPo8UgKDgax",
        "outputId": "0085b9af-14cd-48c6-9038-626235b09260"
      },
      "execution_count": 18,
      "outputs": [
        {
          "output_type": "execute_result",
          "data": {
            "text/plain": [
              "brand_group\n",
              "Non-Brand                               556\n",
              "Fast Fashion & High Street Retailers    546\n",
              "Other Brands                            381\n",
              "Store Brands                            172\n",
              "Niche Brands                            120\n",
              "Premium & Designer                       90\n",
              "Sportswear & Outdoor                     47\n",
              "Name: count, dtype: int64"
            ],
            "text/html": [
              "<div>\n",
              "<style scoped>\n",
              "    .dataframe tbody tr th:only-of-type {\n",
              "        vertical-align: middle;\n",
              "    }\n",
              "\n",
              "    .dataframe tbody tr th {\n",
              "        vertical-align: top;\n",
              "    }\n",
              "\n",
              "    .dataframe thead th {\n",
              "        text-align: right;\n",
              "    }\n",
              "</style>\n",
              "<table border=\"1\" class=\"dataframe\">\n",
              "  <thead>\n",
              "    <tr style=\"text-align: right;\">\n",
              "      <th></th>\n",
              "      <th>count</th>\n",
              "    </tr>\n",
              "    <tr>\n",
              "      <th>brand_group</th>\n",
              "      <th></th>\n",
              "    </tr>\n",
              "  </thead>\n",
              "  <tbody>\n",
              "    <tr>\n",
              "      <th>Non-Brand</th>\n",
              "      <td>556</td>\n",
              "    </tr>\n",
              "    <tr>\n",
              "      <th>Fast Fashion &amp; High Street Retailers</th>\n",
              "      <td>546</td>\n",
              "    </tr>\n",
              "    <tr>\n",
              "      <th>Other Brands</th>\n",
              "      <td>381</td>\n",
              "    </tr>\n",
              "    <tr>\n",
              "      <th>Store Brands</th>\n",
              "      <td>172</td>\n",
              "    </tr>\n",
              "    <tr>\n",
              "      <th>Niche Brands</th>\n",
              "      <td>120</td>\n",
              "    </tr>\n",
              "    <tr>\n",
              "      <th>Premium &amp; Designer</th>\n",
              "      <td>90</td>\n",
              "    </tr>\n",
              "    <tr>\n",
              "      <th>Sportswear &amp; Outdoor</th>\n",
              "      <td>47</td>\n",
              "    </tr>\n",
              "  </tbody>\n",
              "</table>\n",
              "</div><br><label><b>dtype:</b> int64</label>"
            ]
          },
          "metadata": {},
          "execution_count": 18
        }
      ]
    },
    {
      "cell_type": "markdown",
      "source": [
        "#### Cleaning df['type']\n",
        "\n"
      ],
      "metadata": {
        "id": "MrBxMxkRRATt"
      }
    },
    {
      "cell_type": "code",
      "source": [
        "def simplify_type(df):\n",
        "    df['type_clean'] = df['type'].str.lower().str.strip()\n",
        "\n",
        "    corrections = {\n",
        "        'jacker': 'jacket',\n",
        "        'night gown': 'nightgown',\n",
        "        'tank top ': 'tank top',\n",
        "        'sweater': 'sweater',\n",
        "    }\n",
        "    df['type_clean'] = df['type_clean'].replace(corrections)\n",
        "\n",
        "    type_mapping = {\n",
        "        'topwear': [\n",
        "            'blouse', 'shirt', 't-shirt', 'tank top', 'hoodie', 'vest',\n",
        "            'sweater', 'cardigan', 'top', 'tunic', 'training top'\n",
        "        ],\n",
        "        'bottomwear': [\n",
        "            'trousers', 'shorts', 'jeans', 'tights', 'rain trousers', 'winter trousers'\n",
        "        ],\n",
        "        'outerwear': [\n",
        "            'jacket', 'rain jacket', 'denim jacket', 'winter jacket', 'blazer', 'outerwear'\n",
        "        ],\n",
        "        'dresswear': [\n",
        "            'dress', 'nightgown', 'robe'\n",
        "        ],\n",
        "        'sleepwear': [\n",
        "            'pajamas'\n",
        "        ]\n",
        "    }\n",
        "\n",
        "    reverse_mapping = {}\n",
        "    for group, types in type_mapping.items():\n",
        "        for t in types:\n",
        "            reverse_mapping[t] = group\n",
        "\n",
        "    df['type_grouped'] = df['type_clean'].map(reverse_mapping).fillna('other')\n",
        "\n",
        "    return df\n",
        "\n",
        "df = simplify_type(df)"
      ],
      "metadata": {
        "id": "af3z-_hBQ_ed"
      },
      "execution_count": 54,
      "outputs": []
    },
    {
      "cell_type": "code",
      "source": [
        "df['type_grouped'].value_counts()"
      ],
      "metadata": {
        "colab": {
          "base_uri": "https://localhost:8080/",
          "height": 147
        },
        "id": "LQjfHyyzRWGM",
        "outputId": "1d9b4738-110b-442b-acb7-b842db8d44a3"
      },
      "execution_count": 57,
      "outputs": [
        {
          "output_type": "execute_result",
          "data": {
            "text/plain": [
              "type_grouped\n",
              "other    1912\n",
              "Name: count, dtype: int64"
            ],
            "text/html": [
              "<div>\n",
              "<style scoped>\n",
              "    .dataframe tbody tr th:only-of-type {\n",
              "        vertical-align: middle;\n",
              "    }\n",
              "\n",
              "    .dataframe tbody tr th {\n",
              "        vertical-align: top;\n",
              "    }\n",
              "\n",
              "    .dataframe thead th {\n",
              "        text-align: right;\n",
              "    }\n",
              "</style>\n",
              "<table border=\"1\" class=\"dataframe\">\n",
              "  <thead>\n",
              "    <tr style=\"text-align: right;\">\n",
              "      <th></th>\n",
              "      <th>count</th>\n",
              "    </tr>\n",
              "    <tr>\n",
              "      <th>type_grouped</th>\n",
              "      <th></th>\n",
              "    </tr>\n",
              "  </thead>\n",
              "  <tbody>\n",
              "    <tr>\n",
              "      <th>other</th>\n",
              "      <td>1912</td>\n",
              "    </tr>\n",
              "  </tbody>\n",
              "</table>\n",
              "</div><br><label><b>dtype:</b> int64</label>"
            ]
          },
          "metadata": {},
          "execution_count": 57
        }
      ]
    },
    {
      "cell_type": "markdown",
      "source": [
        "####Cleaning df['size']"
      ],
      "metadata": {
        "id": "8ueEuAnZC2oB"
      }
    },
    {
      "cell_type": "code",
      "source": [
        "df['size'].value_counts()"
      ],
      "metadata": {
        "colab": {
          "base_uri": "https://localhost:8080/",
          "height": 1000
        },
        "id": "3ht8exmGDFPp",
        "outputId": "4efab362-aa75-4669-fb66-b9058ec96da4"
      },
      "execution_count": 41,
      "outputs": [
        {
          "output_type": "execute_result",
          "data": {
            "text/plain": [
              "size\n",
              "None       321\n",
              "L          286\n",
              "M          261\n",
              "S          160\n",
              "XL         133\n",
              "M          107\n",
              "S           90\n",
              "38          88\n",
              "40          72\n",
              "42          65\n",
              "XS          60\n",
              "36          55\n",
              "44          43\n",
              "XXL         40\n",
              "46          28\n",
              "34          24\n",
              "48          13\n",
              "122          8\n",
              "146          7\n",
              "50           5\n",
              "134          5\n",
              "140          4\n",
              "110          4\n",
              "74           4\n",
              "Onesize      3\n",
              "62           3\n",
              "104          3\n",
              "158          3\n",
              "92           2\n",
              "128          2\n",
              "52           2\n",
              "80           2\n",
              "XXXL         2\n",
              "56           2\n",
              "onesize      1\n",
              "98           1\n",
              "164          1\n",
              "116          1\n",
              "86           1\n",
              "Name: count, dtype: int64"
            ],
            "text/html": [
              "<div>\n",
              "<style scoped>\n",
              "    .dataframe tbody tr th:only-of-type {\n",
              "        vertical-align: middle;\n",
              "    }\n",
              "\n",
              "    .dataframe tbody tr th {\n",
              "        vertical-align: top;\n",
              "    }\n",
              "\n",
              "    .dataframe thead th {\n",
              "        text-align: right;\n",
              "    }\n",
              "</style>\n",
              "<table border=\"1\" class=\"dataframe\">\n",
              "  <thead>\n",
              "    <tr style=\"text-align: right;\">\n",
              "      <th></th>\n",
              "      <th>count</th>\n",
              "    </tr>\n",
              "    <tr>\n",
              "      <th>size</th>\n",
              "      <th></th>\n",
              "    </tr>\n",
              "  </thead>\n",
              "  <tbody>\n",
              "    <tr>\n",
              "      <th>None</th>\n",
              "      <td>321</td>\n",
              "    </tr>\n",
              "    <tr>\n",
              "      <th>L</th>\n",
              "      <td>286</td>\n",
              "    </tr>\n",
              "    <tr>\n",
              "      <th>M</th>\n",
              "      <td>261</td>\n",
              "    </tr>\n",
              "    <tr>\n",
              "      <th>S</th>\n",
              "      <td>160</td>\n",
              "    </tr>\n",
              "    <tr>\n",
              "      <th>XL</th>\n",
              "      <td>133</td>\n",
              "    </tr>\n",
              "    <tr>\n",
              "      <th>M</th>\n",
              "      <td>107</td>\n",
              "    </tr>\n",
              "    <tr>\n",
              "      <th>S</th>\n",
              "      <td>90</td>\n",
              "    </tr>\n",
              "    <tr>\n",
              "      <th>38</th>\n",
              "      <td>88</td>\n",
              "    </tr>\n",
              "    <tr>\n",
              "      <th>40</th>\n",
              "      <td>72</td>\n",
              "    </tr>\n",
              "    <tr>\n",
              "      <th>42</th>\n",
              "      <td>65</td>\n",
              "    </tr>\n",
              "    <tr>\n",
              "      <th>XS</th>\n",
              "      <td>60</td>\n",
              "    </tr>\n",
              "    <tr>\n",
              "      <th>36</th>\n",
              "      <td>55</td>\n",
              "    </tr>\n",
              "    <tr>\n",
              "      <th>44</th>\n",
              "      <td>43</td>\n",
              "    </tr>\n",
              "    <tr>\n",
              "      <th>XXL</th>\n",
              "      <td>40</td>\n",
              "    </tr>\n",
              "    <tr>\n",
              "      <th>46</th>\n",
              "      <td>28</td>\n",
              "    </tr>\n",
              "    <tr>\n",
              "      <th>34</th>\n",
              "      <td>24</td>\n",
              "    </tr>\n",
              "    <tr>\n",
              "      <th>48</th>\n",
              "      <td>13</td>\n",
              "    </tr>\n",
              "    <tr>\n",
              "      <th>122</th>\n",
              "      <td>8</td>\n",
              "    </tr>\n",
              "    <tr>\n",
              "      <th>146</th>\n",
              "      <td>7</td>\n",
              "    </tr>\n",
              "    <tr>\n",
              "      <th>50</th>\n",
              "      <td>5</td>\n",
              "    </tr>\n",
              "    <tr>\n",
              "      <th>134</th>\n",
              "      <td>5</td>\n",
              "    </tr>\n",
              "    <tr>\n",
              "      <th>140</th>\n",
              "      <td>4</td>\n",
              "    </tr>\n",
              "    <tr>\n",
              "      <th>110</th>\n",
              "      <td>4</td>\n",
              "    </tr>\n",
              "    <tr>\n",
              "      <th>74</th>\n",
              "      <td>4</td>\n",
              "    </tr>\n",
              "    <tr>\n",
              "      <th>Onesize</th>\n",
              "      <td>3</td>\n",
              "    </tr>\n",
              "    <tr>\n",
              "      <th>62</th>\n",
              "      <td>3</td>\n",
              "    </tr>\n",
              "    <tr>\n",
              "      <th>104</th>\n",
              "      <td>3</td>\n",
              "    </tr>\n",
              "    <tr>\n",
              "      <th>158</th>\n",
              "      <td>3</td>\n",
              "    </tr>\n",
              "    <tr>\n",
              "      <th>92</th>\n",
              "      <td>2</td>\n",
              "    </tr>\n",
              "    <tr>\n",
              "      <th>128</th>\n",
              "      <td>2</td>\n",
              "    </tr>\n",
              "    <tr>\n",
              "      <th>52</th>\n",
              "      <td>2</td>\n",
              "    </tr>\n",
              "    <tr>\n",
              "      <th>80</th>\n",
              "      <td>2</td>\n",
              "    </tr>\n",
              "    <tr>\n",
              "      <th>XXXL</th>\n",
              "      <td>2</td>\n",
              "    </tr>\n",
              "    <tr>\n",
              "      <th>56</th>\n",
              "      <td>2</td>\n",
              "    </tr>\n",
              "    <tr>\n",
              "      <th>onesize</th>\n",
              "      <td>1</td>\n",
              "    </tr>\n",
              "    <tr>\n",
              "      <th>98</th>\n",
              "      <td>1</td>\n",
              "    </tr>\n",
              "    <tr>\n",
              "      <th>164</th>\n",
              "      <td>1</td>\n",
              "    </tr>\n",
              "    <tr>\n",
              "      <th>116</th>\n",
              "      <td>1</td>\n",
              "    </tr>\n",
              "    <tr>\n",
              "      <th>86</th>\n",
              "      <td>1</td>\n",
              "    </tr>\n",
              "  </tbody>\n",
              "</table>\n",
              "</div><br><label><b>dtype:</b> int64</label>"
            ]
          },
          "metadata": {},
          "execution_count": 41
        }
      ]
    },
    {
      "cell_type": "code",
      "source": [
        "def simplify_size(df):\n",
        "    df['size_clean'] = df['size'].astype(str).str.strip().str.lower()\n",
        "\n",
        "    # Mapping dictionary\n",
        "    size_mapping = {\n",
        "        'xs': ['34', '36', 'xs'],\n",
        "        's': ['38', '40', 's'],\n",
        "        'm': ['42', '44', 'm'],\n",
        "        'l': ['46', '48', 'l'],\n",
        "        'xl': ['50', '52', 'xl'],\n",
        "        'xxl': ['54', '56', 'xxl', 'xxxl'],\n",
        "        'onesize': ['onesize', 'one size', 'onesize'],\n",
        "        'kids': ['74', '80', '86', '92', '98', '104', '110', '116', '122',\n",
        "                 '128', '134', '140', '146', '158', '164'],\n",
        "        'unknown': ['none', 'nan', '']\n",
        "    }\n",
        "\n",
        "    def map_size(value):\n",
        "        for group, values in size_mapping.items():\n",
        "            if value in values:\n",
        "                return group\n",
        "        return 'unknown'\n",
        "\n",
        "    df['size_grouped'] = df['size_clean'].apply(map_size)\n",
        "    return df\n",
        "\n",
        "df = simplify_size(df)"
      ],
      "metadata": {
        "id": "Ikisw9G0DDKQ"
      },
      "execution_count": 44,
      "outputs": []
    },
    {
      "cell_type": "code",
      "source": [
        "df['size_grouped'].value_counts()"
      ],
      "metadata": {
        "colab": {
          "base_uri": "https://localhost:8080/",
          "height": 398
        },
        "id": "qWJnFpk3DIDI",
        "outputId": "c98c0046-8600-4347-c350-36ceaa99a073"
      },
      "execution_count": 45,
      "outputs": [
        {
          "output_type": "execute_result",
          "data": {
            "text/plain": [
              "size_grouped\n",
              "m          476\n",
              "s          410\n",
              "l          327\n",
              "unknown    324\n",
              "xl         140\n",
              "xs         139\n",
              "kids        48\n",
              "xxl         44\n",
              "onesize      4\n",
              "Name: count, dtype: int64"
            ],
            "text/html": [
              "<div>\n",
              "<style scoped>\n",
              "    .dataframe tbody tr th:only-of-type {\n",
              "        vertical-align: middle;\n",
              "    }\n",
              "\n",
              "    .dataframe tbody tr th {\n",
              "        vertical-align: top;\n",
              "    }\n",
              "\n",
              "    .dataframe thead th {\n",
              "        text-align: right;\n",
              "    }\n",
              "</style>\n",
              "<table border=\"1\" class=\"dataframe\">\n",
              "  <thead>\n",
              "    <tr style=\"text-align: right;\">\n",
              "      <th></th>\n",
              "      <th>count</th>\n",
              "    </tr>\n",
              "    <tr>\n",
              "      <th>size_grouped</th>\n",
              "      <th></th>\n",
              "    </tr>\n",
              "  </thead>\n",
              "  <tbody>\n",
              "    <tr>\n",
              "      <th>m</th>\n",
              "      <td>476</td>\n",
              "    </tr>\n",
              "    <tr>\n",
              "      <th>s</th>\n",
              "      <td>410</td>\n",
              "    </tr>\n",
              "    <tr>\n",
              "      <th>l</th>\n",
              "      <td>327</td>\n",
              "    </tr>\n",
              "    <tr>\n",
              "      <th>unknown</th>\n",
              "      <td>324</td>\n",
              "    </tr>\n",
              "    <tr>\n",
              "      <th>xl</th>\n",
              "      <td>140</td>\n",
              "    </tr>\n",
              "    <tr>\n",
              "      <th>xs</th>\n",
              "      <td>139</td>\n",
              "    </tr>\n",
              "    <tr>\n",
              "      <th>kids</th>\n",
              "      <td>48</td>\n",
              "    </tr>\n",
              "    <tr>\n",
              "      <th>xxl</th>\n",
              "      <td>44</td>\n",
              "    </tr>\n",
              "    <tr>\n",
              "      <th>onesize</th>\n",
              "      <td>4</td>\n",
              "    </tr>\n",
              "  </tbody>\n",
              "</table>\n",
              "</div><br><label><b>dtype:</b> int64</label>"
            ]
          },
          "metadata": {},
          "execution_count": 45
        }
      ]
    }
  ]
}